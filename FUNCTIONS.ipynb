{
 "cells": [
  {
   "cell_type": "markdown",
   "metadata": {},
   "source": [
    "# FUNCTIONS"
   ]
  },
  {
   "cell_type": "markdown",
   "metadata": {},
   "source": [
    "1.Required Arguments\n",
    "2.Keyword Arguments\n",
    "3.Default Arguments\n",
    "4.Variable length Arguments"
   ]
  },
  {
   "cell_type": "raw",
   "metadata": {},
   "source": [
    "function definition\n",
    "return_name function_name(arguments) {\n",
    "    body of the function;\n",
    "    return value;\n",
    "}\n",
    "function_name(arguments);\n",
    "receiving_variable = function_name(arguments);"
   ]
  },
  {
   "cell_type": "code",
   "execution_count": 1,
   "metadata": {
    "collapsed": false
   },
   "outputs": [
    {
     "ename": "SyntaxError",
     "evalue": "invalid syntax (<ipython-input-1-d1b1227b8872>, line 3)",
     "output_type": "error",
     "traceback": [
      "\u001b[0;36m  File \u001b[0;32m\"<ipython-input-1-d1b1227b8872>\"\u001b[0;36m, line \u001b[0;32m3\u001b[0m\n\u001b[0;31m    body of the function\u001b[0m\n\u001b[0m          ^\u001b[0m\n\u001b[0;31mSyntaxError\u001b[0m\u001b[0;31m:\u001b[0m invalid syntax\n"
     ]
    }
   ],
   "source": [
    "def function_name(arguments):\n",
    "    docstring\n",
    "    body of the function\n",
    "    return value\n",
    "function_name(arguments);\n",
    "receiving_variable = function_name(arguments); //if it receives any value"
   ]
  },
  {
   "cell_type": "code",
   "execution_count": 2,
   "metadata": {
    "collapsed": false
   },
   "outputs": [
    {
     "name": "stdout",
     "output_type": "stream",
     "text": [
      "Addition of a and b is 5\n"
     ]
    }
   ],
   "source": [
    "def add(a,b):\n",
    "    return a+b;\n",
    "c=add(2,3);\n",
    "print(\"Addition of a and b is\",c);"
   ]
  },
  {
   "cell_type": "code",
   "execution_count": 3,
   "metadata": {
    "collapsed": false
   },
   "outputs": [
    {
     "name": "stdout",
     "output_type": "stream",
     "text": [
      "Addition of a and b is 5\n"
     ]
    }
   ],
   "source": [
    "def add(a,b):\n",
    "    'This function is used to perform addition of two numbers'\n",
    "    return a+b;\n",
    "c=add(2,3);\n",
    "print(\"Addition of a and b is\",c);"
   ]
  },
  {
   "cell_type": "code",
   "execution_count": 4,
   "metadata": {
    "collapsed": false
   },
   "outputs": [
    {
     "data": {
      "text/plain": [
       "9"
      ]
     },
     "execution_count": 4,
     "metadata": {},
     "output_type": "execute_result"
    }
   ],
   "source": [
    "add(4,5)"
   ]
  },
  {
   "cell_type": "markdown",
   "metadata": {},
   "source": [
    "# Default arguments"
   ]
  },
  {
   "cell_type": "code",
   "execution_count": 5,
   "metadata": {
    "collapsed": false
   },
   "outputs": [
    {
     "name": "stdout",
     "output_type": "stream",
     "text": [
      "0\n",
      "1\n",
      "2\n"
     ]
    }
   ],
   "source": [
    "def sub(a=0,b=0):    #default values are defined from left to right\n",
    "    return a-b\n",
    "print(sub())\n",
    "print(sub(1))\n",
    "print(sub(3,1))"
   ]
  },
  {
   "cell_type": "code",
   "execution_count": 10,
   "metadata": {
    "collapsed": false
   },
   "outputs": [
    {
     "name": "stdout",
     "output_type": "stream",
     "text": [
      "-1\n"
     ]
    }
   ],
   "source": [
    "def sub(a,b=0):\n",
    "    return a-b\n",
    "print(sub(0,1))"
   ]
  },
  {
   "cell_type": "code",
   "execution_count": 11,
   "metadata": {
    "collapsed": false
   },
   "outputs": [
    {
     "name": "stdout",
     "output_type": "stream",
     "text": [
      "-1\n",
      "1\n"
     ]
    }
   ],
   "source": [
    "def sub(a,b=0):\n",
    "    return a-b\n",
    "print(sub(0,1))\n",
    "print(sub(1))"
   ]
  },
  {
   "cell_type": "markdown",
   "metadata": {},
   "source": [
    "# Keyword arguments"
   ]
  },
  {
   "cell_type": "code",
   "execution_count": 12,
   "metadata": {
    "collapsed": false
   },
   "outputs": [
    {
     "name": "stdout",
     "output_type": "stream",
     "text": [
      "-32\n"
     ]
    }
   ],
   "source": [
    "def sub(a,b,c=0):\n",
    "    return a-b-c\n",
    "print(sub(c=33,b=2,a=3))"
   ]
  },
  {
   "cell_type": "markdown",
   "metadata": {},
   "source": [
    "# Variable length arguments"
   ]
  },
  {
   "cell_type": "code",
   "execution_count": 13,
   "metadata": {
    "collapsed": false
   },
   "outputs": [
    {
     "name": "stdout",
     "output_type": "stream",
     "text": [
      "5\n"
     ]
    }
   ],
   "source": [
    "def add(a,b,*arg):\n",
    "    c=a+b\n",
    "    for x in arg:\n",
    "        c=c+x\n",
    "    return c\n",
    "print(add(2,3))"
   ]
  },
  {
   "cell_type": "code",
   "execution_count": 14,
   "metadata": {
    "collapsed": false
   },
   "outputs": [
    {
     "name": "stdout",
     "output_type": "stream",
     "text": [
      "5\n",
      "55\n"
     ]
    }
   ],
   "source": [
    "def add(a,b,*arg):\n",
    "    c=a+b\n",
    "    for x in arg:\n",
    "        c=c+x\n",
    "    return c\n",
    "print(add(2,3))\n",
    "print(add(1,2,3,4,5,6,7,8,9,10))"
   ]
  },
  {
   "cell_type": "code",
   "execution_count": null,
   "metadata": {
    "collapsed": true
   },
   "outputs": [],
   "source": []
  }
 ],
 "metadata": {
  "anaconda-cloud": {},
  "kernelspec": {
   "display_name": "Python [conda root]",
   "language": "python",
   "name": "conda-root-py"
  },
  "language_info": {
   "codemirror_mode": {
    "name": "ipython",
    "version": 3
   },
   "file_extension": ".py",
   "mimetype": "text/x-python",
   "name": "python",
   "nbconvert_exporter": "python",
   "pygments_lexer": "ipython3",
   "version": "3.5.2"
  }
 },
 "nbformat": 4,
 "nbformat_minor": 1
}
