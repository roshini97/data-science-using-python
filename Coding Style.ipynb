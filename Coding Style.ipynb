{
 "cells": [
  {
   "cell_type": "markdown",
   "metadata": {},
   "source": [
    "## Coding Style: (Should follow these rule for write small peace of code complex code)\n",
    "\n",
    "1. Use 4-space indentation, and no tabs.\n",
    "\n",
    "2. 4 spaces are a good compromise between small indentation (allows greater nesting depth) and large indentation (easier to read). Tabs introduce confusion, and are best left out.\n",
    "\n",
    "3. Wrap lines so that they don’t exceed 79 characters.\n",
    "\n",
    "4. This helps users with small displays and makes it possible to have several code files side-by-side on larger displays.\n",
    "\n",
    "5. Use blank lines to separate functions and classes, and larger blocks of code inside functions.\n",
    "\n",
    "6. When possible, put comments on a line of their own.\n",
    "\n",
    "7. Use docstrings.\n",
    "\n",
    "8. Use spaces around operators and after commas, but not directly inside bracketing constructs: a = f(1, 2) + g(3, 4).\n",
    "\n",
    "9. Name your classes and functions consistently; the convention is to use CamelCase for classes and lower_case_with_underscores for functions and methods. Always use self as the name for the first method argument (see A First Look at Classes for more on classes and methods).\n",
    "\n",
    "10. Don’t use fancy encodings if your code is meant to be used in international environments. Python’s default, UTF-8, or even plain ASCII work best in any case.\n",
    "\n",
    "11. Likewise, don’t use non-ASCII characters in identifiers if there is only the slightest chance people speaking a different language will read or maintain the code."
   ]
  },
  {
   "cell_type": "code",
   "execution_count": null,
   "metadata": {
    "collapsed": true
   },
   "outputs": [],
   "source": []
  }
 ],
 "metadata": {
  "anaconda-cloud": {},
  "kernelspec": {
   "display_name": "Python [default]",
   "language": "python",
   "name": "python3"
  },
  "language_info": {
   "codemirror_mode": {
    "name": "ipython",
    "version": 3
   },
   "file_extension": ".py",
   "mimetype": "text/x-python",
   "name": "python",
   "nbconvert_exporter": "python",
   "pygments_lexer": "ipython3",
   "version": "3.5.2"
  }
 },
 "nbformat": 4,
 "nbformat_minor": 2
}
